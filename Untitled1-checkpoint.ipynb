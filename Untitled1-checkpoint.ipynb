{
 "cells": [
  {
   "cell_type": "code",
   "execution_count": 1,
   "metadata": {},
   "outputs": [],
   "source": [
    "import numpy as np\n",
    "import xarray as xr\n",
    "import dask\n",
    "\n",
    "import matplotlib.pyplot as plt\n",
    "\n",
    "from dask import compute, delayed\n",
    "from scipy.stats import rankdata"
   ]
  },
  {
   "cell_type": "code",
   "execution_count": 2,
   "metadata": {},
   "outputs": [],
   "source": [
    "@delayed\n",
    "def comp_histogram(obs_in,ensemble_in,mask_in):\n",
    "    mask = np.bool_(mask_in.data)\n",
    "\n",
    "    obs = obs_in.data[mask.data]\n",
    "    ensemble = ensemble_in.data[:,mask]\n",
    "\n",
    "    combined = np.vstack((obs[np.newaxis],ensemble))\n",
    "\n",
    "    ranks=np.apply_along_axis(lambda x: rankdata(x,method='min'),0,combined)\n",
    "\n",
    "    ties=np.sum(ranks[0]==ranks[1:], axis=0)\n",
    "    ranks=ranks[0]\n",
    "    tie=np.unique(ties)\n",
    "\n",
    "    for i in range(1,len(tie)):\n",
    "        index=ranks[ties==tie[i]]\n",
    "        ranks[ties==tie[i]]=[np.random.randint(index[j],index[j]+tie[i]+1,tie[i])[0] for j in range(len(index))]\n",
    "\n",
    "    return np.histogram(ranks, bins=np.linspace(0.5, combined.shape[0]+0.5, combined.shape[0]+1))"
   ]
  },
  {
   "cell_type": "code",
   "execution_count": 3,
   "metadata": {},
   "outputs": [],
   "source": [
    "obs = np.random.randn(16, 31, 40, 240)\n",
    "ensemble = np.random.randn(20, 16, 31, 40, 240)\n",
    "mask = np.random.randint(0, 2, (16, 31, 40, 240))\n",
    "\n",
    "da_obs = xr.DataArray(obs, name=\"obs\", coords={\"fct\": range(16), \"ts\": range(31), \"lat\": np.linspace(-90,90,40), \"lon\": np.linspace(0,360,240)}, dims=(\"fct\", \"ts\", \"lat\", \"lon\"))\n",
    "da_ensemble = xr.DataArray(ensemble, name=\"ensemble\", coords={\"ens\": range(20), \"fct\": range(16), \"ts\": range(31), \"lat\": np.linspace(-90,90,40), \"lon\": np.linspace(0,360,240)}, dims=(\"ens\", \"fct\", \"ts\", \"lat\", \"lon\"))\n",
    "da_mask = xr.DataArray(mask, name=\"mask\", coords={\"fct\": range(16), \"ts\": range(31), \"lat\": np.linspace(-90,90,40), \"lon\": np.linspace(0,360,240)}, dims=(\"fct\", \"ts\", \"lat\", \"lon\"))"
   ]
  },
  {
   "cell_type": "code",
   "execution_count": 4,
   "metadata": {},
   "outputs": [
    {
     "name": "stdout",
     "output_type": "stream",
     "text": [
      "[Delayed('comp_histogram-10ddd5c9-5754-4b07-ae3c-d90dd4a676d5'), Delayed('comp_histogram-5c5df0c8-0ccb-4d8f-87b8-b85dbf704c2c'), Delayed('comp_histogram-a016bcf2-4399-4d77-9000-d9d3f0ff35d8'), Delayed('comp_histogram-32b9b8b4-e3a3-4da6-b9e7-a95af5fadbff'), Delayed('comp_histogram-0a5f2a64-85fe-4254-8c7e-dfad27c5f562'), Delayed('comp_histogram-f17a22e4-dcef-4225-a650-97de08271ba9'), Delayed('comp_histogram-2590ddab-f949-4fe4-942e-720889dc96a8'), Delayed('comp_histogram-a4a2f39b-f971-4424-97ce-7b4824fdfd49'), Delayed('comp_histogram-1a158dbf-ad72-424e-8be2-9c13bfeca8ac'), Delayed('comp_histogram-dd8dcdff-be31-454d-bdf7-1cb4fcf1fa69'), Delayed('comp_histogram-4fb82033-b075-4127-82c7-671569fcedb6'), Delayed('comp_histogram-436211ff-20ce-49d1-865a-8fdc37822878'), Delayed('comp_histogram-29018099-ab39-4d1a-ada8-4507bdc42718'), Delayed('comp_histogram-93391ee1-88b4-4a1c-8df9-2259491bda34'), Delayed('comp_histogram-34f223b0-6d55-47f6-8250-416299409608'), Delayed('comp_histogram-48bb9fb4-6ba4-462f-8ad3-af0f2e635e48')]\n"
     ]
    }
   ],
   "source": [
    "delayed_results = []\n",
    "for ifct in range(16):\n",
    "\n",
    "    da_obs_isel = da_obs.isel(fct=ifct)\n",
    "    da_ensemble_isel = da_ensemble.isel(fct=ifct)\n",
    "    da_mask_isel = da_mask.isel(fct=ifct)\n",
    "\n",
    "    histogram = comp_histogram(da_obs_isel,da_ensemble_isel,da_mask_isel)\n",
    "\n",
    "    delayed_results.append(histogram)\n",
    "\n",
    "print(delayed_results)"
   ]
  },
  {
   "cell_type": "code",
   "execution_count": 8,
   "metadata": {},
   "outputs": [
    {
     "name": "stdout",
     "output_type": "stream",
     "text": [
      "CPU times: user 3 µs, sys: 1e+03 ns, total: 4 µs\n",
      "Wall time: 5.72 µs\n"
     ]
    }
   ],
   "source": [
    "%time\n",
    "results = dask.compute(*delayed_results, scheduler=\"processes\")"
   ]
  },
  {
   "cell_type": "code",
   "execution_count": 9,
   "metadata": {},
   "outputs": [
    {
     "data": {
      "text/plain": [
       "((array([7044, 7110, 7108, 6974, 7180, 7138, 7027, 7016, 7089, 7081, 7073,\n",
       "         7160, 7208, 7125, 7164, 7036, 7109, 6844, 7167, 7155, 7041]),\n",
       "  array([ 0.5,  1.5,  2.5,  3.5,  4.5,  5.5,  6.5,  7.5,  8.5,  9.5, 10.5,\n",
       "         11.5, 12.5, 13.5, 14.5, 15.5, 16.5, 17.5, 18.5, 19.5, 20.5, 21.5])),\n",
       " (array([7052, 7068, 7193, 7189, 7151, 7203, 6968, 7279, 7080, 7067, 7025,\n",
       "         7085, 7065, 7066, 7000, 7126, 6957, 7065, 7016, 7154, 7089]),\n",
       "  array([ 0.5,  1.5,  2.5,  3.5,  4.5,  5.5,  6.5,  7.5,  8.5,  9.5, 10.5,\n",
       "         11.5, 12.5, 13.5, 14.5, 15.5, 16.5, 17.5, 18.5, 19.5, 20.5, 21.5])),\n",
       " (array([7190, 7177, 7130, 7001, 7104, 7130, 7068, 7034, 6959, 7124, 7115,\n",
       "         7017, 7060, 7108, 7265, 7185, 7133, 7087, 6985, 7051, 7063]),\n",
       "  array([ 0.5,  1.5,  2.5,  3.5,  4.5,  5.5,  6.5,  7.5,  8.5,  9.5, 10.5,\n",
       "         11.5, 12.5, 13.5, 14.5, 15.5, 16.5, 17.5, 18.5, 19.5, 20.5, 21.5])),\n",
       " (array([7000, 7037, 7161, 7097, 6997, 7090, 7089, 7048, 7197, 7172, 7012,\n",
       "         7196, 7107, 7086, 7072, 7114, 7090, 7063, 7155, 7119, 7135]),\n",
       "  array([ 0.5,  1.5,  2.5,  3.5,  4.5,  5.5,  6.5,  7.5,  8.5,  9.5, 10.5,\n",
       "         11.5, 12.5, 13.5, 14.5, 15.5, 16.5, 17.5, 18.5, 19.5, 20.5, 21.5])),\n",
       " (array([7203, 6993, 7016, 7237, 7306, 6940, 7231, 7054, 7044, 7033, 6935,\n",
       "         6988, 7167, 7108, 6984, 7034, 7210, 7098, 6979, 7076, 7078]),\n",
       "  array([ 0.5,  1.5,  2.5,  3.5,  4.5,  5.5,  6.5,  7.5,  8.5,  9.5, 10.5,\n",
       "         11.5, 12.5, 13.5, 14.5, 15.5, 16.5, 17.5, 18.5, 19.5, 20.5, 21.5])),\n",
       " (array([7178, 6816, 7029, 7145, 7082, 7019, 7173, 7092, 7146, 7068, 7089,\n",
       "         7096, 7274, 6947, 7157, 7000, 6884, 7088, 6922, 7001, 7140]),\n",
       "  array([ 0.5,  1.5,  2.5,  3.5,  4.5,  5.5,  6.5,  7.5,  8.5,  9.5, 10.5,\n",
       "         11.5, 12.5, 13.5, 14.5, 15.5, 16.5, 17.5, 18.5, 19.5, 20.5, 21.5])),\n",
       " (array([6957, 7062, 7069, 6988, 7188, 7032, 6972, 7095, 7074, 7056, 7145,\n",
       "         7079, 7077, 6949, 7140, 7119, 7066, 7188, 7317, 7006, 7124]),\n",
       "  array([ 0.5,  1.5,  2.5,  3.5,  4.5,  5.5,  6.5,  7.5,  8.5,  9.5, 10.5,\n",
       "         11.5, 12.5, 13.5, 14.5, 15.5, 16.5, 17.5, 18.5, 19.5, 20.5, 21.5])),\n",
       " (array([7218, 7097, 7112, 6944, 6985, 7156, 7054, 7098, 7054, 7075, 7029,\n",
       "         7196, 6997, 7146, 7003, 7065, 7051, 7144, 7018, 7229, 7121]),\n",
       "  array([ 0.5,  1.5,  2.5,  3.5,  4.5,  5.5,  6.5,  7.5,  8.5,  9.5, 10.5,\n",
       "         11.5, 12.5, 13.5, 14.5, 15.5, 16.5, 17.5, 18.5, 19.5, 20.5, 21.5])),\n",
       " (array([7050, 7015, 7213, 7128, 7072, 7146, 7105, 7209, 7074, 7117, 7039,\n",
       "         7034, 7089, 7101, 7099, 7130, 7133, 7104, 7159, 7175, 7083]),\n",
       "  array([ 0.5,  1.5,  2.5,  3.5,  4.5,  5.5,  6.5,  7.5,  8.5,  9.5, 10.5,\n",
       "         11.5, 12.5, 13.5, 14.5, 15.5, 16.5, 17.5, 18.5, 19.5, 20.5, 21.5])),\n",
       " (array([7016, 6850, 7028, 7065, 7089, 7103, 7126, 7288, 7140, 7215, 7126,\n",
       "         7137, 6968, 7081, 6974, 7055, 7232, 7119, 7093, 7223, 7041]),\n",
       "  array([ 0.5,  1.5,  2.5,  3.5,  4.5,  5.5,  6.5,  7.5,  8.5,  9.5, 10.5,\n",
       "         11.5, 12.5, 13.5, 14.5, 15.5, 16.5, 17.5, 18.5, 19.5, 20.5, 21.5])),\n",
       " (array([7156, 7051, 7082, 7135, 7027, 7085, 7054, 7071, 7113, 7059, 7122,\n",
       "         7087, 6899, 7113, 7037, 7314, 7025, 7104, 6860, 7082, 7053]),\n",
       "  array([ 0.5,  1.5,  2.5,  3.5,  4.5,  5.5,  6.5,  7.5,  8.5,  9.5, 10.5,\n",
       "         11.5, 12.5, 13.5, 14.5, 15.5, 16.5, 17.5, 18.5, 19.5, 20.5, 21.5])),\n",
       " (array([7017, 7144, 7194, 7142, 7013, 7009, 7133, 7066, 7059, 7106, 7022,\n",
       "         7040, 7064, 7143, 7235, 6973, 6923, 7246, 7174, 7105, 7016]),\n",
       "  array([ 0.5,  1.5,  2.5,  3.5,  4.5,  5.5,  6.5,  7.5,  8.5,  9.5, 10.5,\n",
       "         11.5, 12.5, 13.5, 14.5, 15.5, 16.5, 17.5, 18.5, 19.5, 20.5, 21.5])),\n",
       " (array([7180, 7037, 7012, 7087, 6987, 7058, 7182, 7197, 6932, 7186, 7189,\n",
       "         7092, 7005, 7134, 6956, 6990, 7035, 7126, 7066, 7075, 7033]),\n",
       "  array([ 0.5,  1.5,  2.5,  3.5,  4.5,  5.5,  6.5,  7.5,  8.5,  9.5, 10.5,\n",
       "         11.5, 12.5, 13.5, 14.5, 15.5, 16.5, 17.5, 18.5, 19.5, 20.5, 21.5])),\n",
       " (array([6942, 7001, 6980, 7113, 7067, 7216, 7101, 7097, 7076, 7161, 7051,\n",
       "         7044, 7298, 7166, 7160, 6983, 7191, 7120, 7167, 7080, 7028]),\n",
       "  array([ 0.5,  1.5,  2.5,  3.5,  4.5,  5.5,  6.5,  7.5,  8.5,  9.5, 10.5,\n",
       "         11.5, 12.5, 13.5, 14.5, 15.5, 16.5, 17.5, 18.5, 19.5, 20.5, 21.5])),\n",
       " (array([7013, 7049, 7192, 6885, 7035, 7084, 7200, 7050, 7006, 7094, 6986,\n",
       "         7203, 7078, 7228, 7200, 7152, 6960, 6986, 7056, 7022, 7234]),\n",
       "  array([ 0.5,  1.5,  2.5,  3.5,  4.5,  5.5,  6.5,  7.5,  8.5,  9.5, 10.5,\n",
       "         11.5, 12.5, 13.5, 14.5, 15.5, 16.5, 17.5, 18.5, 19.5, 20.5, 21.5])),\n",
       " (array([7034, 7047, 7132, 7143, 7081, 7095, 7067, 7110, 7086, 7198, 7114,\n",
       "         7134, 7068, 7146, 7031, 7132, 7067, 7085, 6954, 7116, 7038]),\n",
       "  array([ 0.5,  1.5,  2.5,  3.5,  4.5,  5.5,  6.5,  7.5,  8.5,  9.5, 10.5,\n",
       "         11.5, 12.5, 13.5, 14.5, 15.5, 16.5, 17.5, 18.5, 19.5, 20.5, 21.5])))"
      ]
     },
     "execution_count": 9,
     "metadata": {},
     "output_type": "execute_result"
    }
   ],
   "source": [
    "results"
   ]
  },
  {
   "cell_type": "code",
   "execution_count": null,
   "metadata": {},
   "outputs": [],
   "source": []
  }
 ],
 "metadata": {
  "kernelspec": {
   "display_name": "Python 3",
   "language": "python",
   "name": "python3"
  },
  "language_info": {
   "codemirror_mode": {
    "name": "ipython",
    "version": 3
   },
   "file_extension": ".py",
   "mimetype": "text/x-python",
   "name": "python",
   "nbconvert_exporter": "python",
   "pygments_lexer": "ipython3",
   "version": "3.7.3"
  }
 },
 "nbformat": 4,
 "nbformat_minor": 2
}
