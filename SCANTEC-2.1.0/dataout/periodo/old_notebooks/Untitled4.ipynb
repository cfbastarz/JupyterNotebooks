{
 "cells": [
  {
   "cell_type": "code",
   "execution_count": null,
   "id": "918afe8a-69c1-4c22-abe2-eb13020e3c93",
   "metadata": {},
   "outputs": [],
   "source": [
    "import intake\n",
    "import hvplot.xarray  # ou hvplot.xarray para dados xarray\n",
    "import geoviews as gv\n",
    "from geoviews import tile_sources as gvts\n",
    "\n",
    "# Abrir o catálogo YAML\n",
    "catalog = intake.open_catalog('https://s0.cptec.inpe.br/pesquisa/das/dist/carlos.bastarz/SCANTEC-2.1.0/catalog-test.yml')\n",
    "\n",
    "# Listar os nomes dos conjuntos de dados disponíveis no catálogo\n",
    "chaves = list(catalog)\n",
    "\n",
    "# Selecionar o primeiro conjunto de dados do catálogo\n",
    "primeiro_conjunto_dados = catalog[chaves[0]]\n",
    "\n",
    "# Ler os dados do conjunto de dados\n",
    "dados = primeiro_conjunto_dados.read()\n",
    "\n",
    "# Converter para pandas DataFrame (ou xarray Dataset se estiver usando hvplot.xarray)\n",
    "df = dados.to_dask()\n",
    "\n",
    "# Plotar as figuras espaciais usando hvplot\n",
    "#figuras = gv.Points(df, ['longitude', 'latitude']).opts(size=5, color='red')\n",
    "#tiles = gvts.CartoLight().opts(alpha=0.5)\n",
    "#tiles * figuras\n"
   ]
  },
  {
   "cell_type": "code",
   "execution_count": null,
   "id": "d0dac606-b92d-40bb-8b72-d582fab309ba",
   "metadata": {},
   "outputs": [],
   "source": [
    "print(zarr.__version__)"
   ]
  },
  {
   "cell_type": "code",
   "execution_count": null,
   "id": "57aa4b5a-b102-412e-9ac0-311b1b151d07",
   "metadata": {},
   "outputs": [],
   "source": []
  }
 ],
 "metadata": {
  "kernelspec": {
   "display_name": "Python 3 (ipykernel)",
   "language": "python",
   "name": "python3"
  },
  "language_info": {
   "codemirror_mode": {
    "name": "ipython",
    "version": 3
   },
   "file_extension": ".py",
   "mimetype": "text/x-python",
   "name": "python",
   "nbconvert_exporter": "python",
   "pygments_lexer": "ipython3",
   "version": "3.7.13"
  }
 },
 "nbformat": 4,
 "nbformat_minor": 5
}
