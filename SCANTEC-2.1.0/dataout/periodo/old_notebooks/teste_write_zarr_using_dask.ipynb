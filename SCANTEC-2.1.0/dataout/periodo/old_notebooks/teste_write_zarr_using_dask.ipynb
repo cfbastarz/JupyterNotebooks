{
 "cells": [
  {
   "cell_type": "code",
   "execution_count": null,
   "id": "a92c3475-62e3-466f-9a87-341bfb5de138",
   "metadata": {},
   "outputs": [],
   "source": [
    "import os\n",
    "import dask\n",
    "import zarr\n",
    "import xarray as xr\n",
    "import hvplot.xarray\n",
    "from dask.distributed import Client, progress, LocalCluster\n",
    "from rechunker import rechunk\n",
    "from datetime import datetime as dt\n",
    "from datetime import timedelta as td\n",
    "from xgrads import open_CtlDataset\n",
    "from xgrads import open_mfdataset"
   ]
  },
  {
   "cell_type": "code",
   "execution_count": null,
   "id": "7426e708-f794-43ae-ae5d-e51af036b3ef",
   "metadata": {},
   "outputs": [],
   "source": [
    "cluster = LocalCluster()\n",
    "cluster"
   ]
  },
  {
   "cell_type": "code",
   "execution_count": null,
   "id": "37a2741b-1ef9-4469-ba5d-258ccb497835",
   "metadata": {},
   "outputs": [],
   "source": [
    "client = Client(cluster)"
   ]
  },
  {
   "cell_type": "code",
   "execution_count": null,
   "id": "15803bf9-19b5-492b-a8c3-17e0776aa141",
   "metadata": {},
   "outputs": [],
   "source": [
    "bpath='/extra2/SCANTEC_XC50/SCANTEC-2.1.0/dataout/periodo'\n",
    "\n",
    "Tests=['T1', 'T2', 'T3']\n",
    "Regs=['gl', 'hn', 'tr', 'hs', 'as']\n",
    "Stats=['VIES', 'RMSE', 'MEAN']\n",
    "Exps=['DTC', 'BAMH', 'BAMH0']\n",
    "\n",
    "scan_files = []\n",
    "\n",
    "for reg in Regs:\n",
    "    for exp in Exps:\n",
    "        for stat in Stats:\n",
    "            for test in Tests:\n",
    "                filectl = str(stat) + str(exp) + '_20230216002023030300F.ctl'\n",
    "                fnamectl = os.path.join(bpath, test, reg, filectl)\n",
    "                scan_files.append(fnamectl)"
   ]
  },
  {
   "cell_type": "code",
   "execution_count": null,
   "id": "fd4021c8-4fdc-445b-8817-5ea62d6b1a39",
   "metadata": {},
   "outputs": [],
   "source": [
    "scan_files"
   ]
  },
  {
   "cell_type": "code",
   "execution_count": null,
   "id": "f1ec303d-7068-4827-82f2-df6cbb850e0c",
   "metadata": {},
   "outputs": [],
   "source": [
    "%%time\n",
    "\n",
    "ds_scan = open_mfdataset('/extra2/SCANTEC_XC50/SCANTEC-2.1.0/dataout/periodo/*/*/*_20230216002023030300F.ctl', parallel=True)"
   ]
  },
  {
   "cell_type": "code",
   "execution_count": null,
   "id": "fdd66361-5008-4566-8a3f-422752ae248d",
   "metadata": {},
   "outputs": [],
   "source": [
    "ds_scan"
   ]
  },
  {
   "cell_type": "code",
   "execution_count": null,
   "id": "9e422a81-4bbe-4276-94db-f532b5baf43f",
   "metadata": {},
   "outputs": [],
   "source": []
  }
 ],
 "metadata": {
  "kernelspec": {
   "display_name": "Python 3 (ipykernel)",
   "language": "python",
   "name": "python3"
  },
  "language_info": {
   "codemirror_mode": {
    "name": "ipython",
    "version": 3
   },
   "file_extension": ".py",
   "mimetype": "text/x-python",
   "name": "python",
   "nbconvert_exporter": "python",
   "pygments_lexer": "ipython3",
   "version": "3.7.13"
  }
 },
 "nbformat": 4,
 "nbformat_minor": 5
}
