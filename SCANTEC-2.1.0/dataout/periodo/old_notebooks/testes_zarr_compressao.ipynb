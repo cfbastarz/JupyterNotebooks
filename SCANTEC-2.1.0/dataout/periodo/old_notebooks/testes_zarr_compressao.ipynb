{
 "cells": [
  {
   "cell_type": "code",
   "execution_count": 1,
   "id": "0702f5ec-0c09-4e9f-bb04-128389156e66",
   "metadata": {},
   "outputs": [],
   "source": [
    "import os\n",
    "import xarray as xr\n",
    "from xgrads import CtlDescriptor\n",
    "from xgrads import open_CtlDataset\n",
    "import numpy as np\n",
    "from joblib import Parallel, delayed\n",
    "import zarr"
   ]
  },
  {
   "cell_type": "code",
   "execution_count": 2,
   "id": "5876f05a-0e02-461c-a69d-b9fcb5d9c816",
   "metadata": {},
   "outputs": [],
   "source": [
    "Regs = ['gl', 'hn', 'tr', 'hs', 'as']\n",
    "Exps = ['DTC', 'BAMH', 'BAMH0']\n",
    "Stats = ['VIES', 'RMSE', 'MEAN']\n",
    "Tests = ['T1', 'T2', 'T3']"
   ]
  },
  {
   "cell_type": "code",
   "execution_count": null,
   "id": "0047c5a0-8572-45a2-80c2-d5fb5d0be796",
   "metadata": {},
   "outputs": [],
   "source": [
    "%%time\n",
    "\n",
    "# Escrita convencional, formato zarr (1 arquivos por vez) - 17s por experimento, total: ~17min\n",
    "\n",
    "compressor = zarr.Blosc(cname=\"zstd\", clevel=3, shuffle=2)\n",
    "encoding = {\n",
    "    'zgeo250': {\"compressor\": compressor},\n",
    "    'pslc000': {\"compressor\": compressor},\n",
    "    'uvel500': {\"compressor\": compressor},\n",
    "    'umes500': {\"compressor\": compressor},\n",
    "    'zgeo500': {\"compressor\": compressor},\n",
    "    'vvel500': {\"compressor\": compressor},\n",
    "    'vtmp850': {\"compressor\": compressor},\n",
    "    'uvel850': {\"compressor\": compressor},\n",
    "    'vvel850': {\"compressor\": compressor},\n",
    "    'temp850': {\"compressor\": compressor},\n",
    "    'temp250': {\"compressor\": compressor},\n",
    "    'umes925': {\"compressor\": compressor},\n",
    "    'vtmp925': {\"compressor\": compressor},\n",
    "    'temp500': {\"compressor\": compressor},\n",
    "    'vtmp500': {\"compressor\": compressor},\n",
    "    'umes850': {\"compressor\": compressor},\n",
    "    'uvel250': {\"compressor\": compressor},\n",
    "    'vvel250': {\"compressor\": compressor},\n",
    "    'zgeo850': {\"compressor\": compressor},\n",
    "}\n",
    "\n",
    "for reg in Regs:\n",
    "    for exp in Exps:\n",
    "        for stat in Stats:\n",
    "            for test in Tests:\n",
    "                print(reg, exp, stat, test)\n",
    "                filein = str(stat) + str(exp) + '_20230216002023030300F.ctl'\n",
    "                fnamein = os.path.join(test, reg, filein)\n",
    "                fileout = str(stat) + str(exp) + '_20230216002023030300FC2.zarr'\n",
    "                fnameout = os.path.join(test, reg, fileout)\n",
    "                dset = open_CtlDataset(fnamein).to_zarr(fnameout, mode='w', consolidated=True, encoding=encoding)"
   ]
  },
  {
   "cell_type": "code",
   "execution_count": 3,
   "id": "16156bde-546d-40e2-8d92-76b78e86a671",
   "metadata": {},
   "outputs": [
    {
     "name": "stdout",
     "output_type": "stream",
     "text": [
      "CPU times: user 2.94 s, sys: 646 ms, total: 3.59 s\n",
      "Wall time: 15 s\n"
     ]
    }
   ],
   "source": [
    "%%time\n",
    "\n",
    "compressor = zarr.Blosc(cname=\"zstd\", clevel=3, shuffle=2)\n",
    "encoding = {\n",
    "    'zgeo250': {\"compressor\": compressor},\n",
    "    'pslc000': {\"compressor\": compressor},\n",
    "    'uvel500': {\"compressor\": compressor},\n",
    "    'umes500': {\"compressor\": compressor},\n",
    "    'zgeo500': {\"compressor\": compressor},\n",
    "    'vvel500': {\"compressor\": compressor},\n",
    "    'vtmp850': {\"compressor\": compressor},\n",
    "    'uvel850': {\"compressor\": compressor},\n",
    "    'vvel850': {\"compressor\": compressor},\n",
    "    'temp850': {\"compressor\": compressor},\n",
    "    'temp250': {\"compressor\": compressor},\n",
    "    'umes925': {\"compressor\": compressor},\n",
    "    'vtmp925': {\"compressor\": compressor},\n",
    "    'temp500': {\"compressor\": compressor},\n",
    "    'vtmp500': {\"compressor\": compressor},\n",
    "    'umes850': {\"compressor\": compressor},\n",
    "    'uvel250': {\"compressor\": compressor},\n",
    "    'vvel250': {\"compressor\": compressor},\n",
    "    'zgeo850': {\"compressor\": compressor},\n",
    "}\n",
    "\n",
    "fnamein = '/extra2/SCANTEC_XC50/SCANTEC-2.1.0/dataout/periodo/T1/gl/RMSEBAMH_20230216002023030300F.ctl'\n",
    "fnameout = '/extra2/SCANTEC_XC50/SCANTEC-2.1.0/dataout/periodo/RMSEBAMH_20230216002023030300FC.zarr'\n",
    "\n",
    "dset = open_CtlDataset(fnamein).to_zarr(fnameout, mode='w', consolidated=True, encoding=encoding)"
   ]
  },
  {
   "cell_type": "code",
   "execution_count": 22,
   "id": "d7ae4325-f19f-4ac4-93d7-71aa7995846e",
   "metadata": {},
   "outputs": [
    {
     "ename": "TypeError",
     "evalue": "'module' object is not callable",
     "output_type": "error",
     "traceback": [
      "\u001b[0;31m---------------------------------------------------------------------------\u001b[0m",
      "\u001b[0;31mTypeError\u001b[0m                                 Traceback (most recent call last)",
      "\u001b[0;32m<timed exec>\u001b[0m in \u001b[0;36m<module>\u001b[0;34m\u001b[0m\n",
      "\u001b[0;31mTypeError\u001b[0m: 'module' object is not callable"
     ]
    }
   ],
   "source": [
    "%%time\n",
    "\n",
    "from numcodecs import Blosc\n",
    "\n",
    "compressor = zarr.gzip(level=1)\n",
    "encoding = {\n",
    "    'zgeo250': {\"compressor\": compressor},\n",
    "    'pslc000': {\"compressor\": compressor},\n",
    "    'uvel500': {\"compressor\": compressor},\n",
    "    'umes500': {\"compressor\": compressor},\n",
    "    'zgeo500': {\"compressor\": compressor},\n",
    "    'vvel500': {\"compressor\": compressor},\n",
    "    'vtmp850': {\"compressor\": compressor},\n",
    "    'uvel850': {\"compressor\": compressor},\n",
    "    'vvel850': {\"compressor\": compressor},\n",
    "    'temp850': {\"compressor\": compressor},\n",
    "    'temp250': {\"compressor\": compressor},\n",
    "    'umes925': {\"compressor\": compressor},\n",
    "    'vtmp925': {\"compressor\": compressor},\n",
    "    'temp500': {\"compressor\": compressor},\n",
    "    'vtmp500': {\"compressor\": compressor},\n",
    "    'umes850': {\"compressor\": compressor},\n",
    "    'uvel250': {\"compressor\": compressor},\n",
    "    'vvel250': {\"compressor\": compressor},\n",
    "    'zgeo850': {\"compressor\": compressor},\n",
    "}\n",
    "\n",
    "fnamein = '/extra2/SCANTEC_XC50/SCANTEC-2.1.0/dataout/periodo/T1/gl/RMSEBAMH_20230216002023030300F.ctl'\n",
    "fnameout = '/extra2/SCANTEC_XC50/SCANTEC-2.1.0/dataout/periodo/RMSEBAMH_20230216002023030300FC.zarr'\n",
    "\n",
    "dset = open_CtlDataset(fnamein).to_zarr(fnameout, mode='w', consolidated=True, encoding=encoding)"
   ]
  },
  {
   "cell_type": "code",
   "execution_count": null,
   "id": "dbc842ba-264d-47bd-b830-a263b39cca34",
   "metadata": {},
   "outputs": [],
   "source": []
  }
 ],
 "metadata": {
  "kernelspec": {
   "display_name": "Python 3 (ipykernel)",
   "language": "python",
   "name": "python3"
  },
  "language_info": {
   "codemirror_mode": {
    "name": "ipython",
    "version": 3
   },
   "file_extension": ".py",
   "mimetype": "text/x-python",
   "name": "python",
   "nbconvert_exporter": "python",
   "pygments_lexer": "ipython3",
   "version": "3.7.13"
  }
 },
 "nbformat": 4,
 "nbformat_minor": 5
}
