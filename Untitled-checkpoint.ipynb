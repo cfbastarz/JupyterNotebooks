{
 "cells": [
  {
   "cell_type": "markdown",
   "metadata": {},
   "source": [
    "# Fazendo Loops Temporais no Python\n",
    "No Python é perfeitamente possível e útil fazer loops temporais, tal como se faz no Shell do Linux. Em linguagem Bash, por exemplo, podemos fazer um loop entre duas datas utilizando apenas o comando \"date\" com alguns modificadores a fim de formatar o horário. O script Bash a seguir, é um exemplo disso:"
   ]
  },
  {
   "cell_type": "code",
   "execution_count": 1,
   "metadata": {},
   "outputs": [
    {
     "ename": "SyntaxError",
     "evalue": "invalid syntax (<ipython-input-1-0aa1d2a618bb>, line 3)",
     "output_type": "error",
     "traceback": [
      "\u001b[0;36m  File \u001b[0;32m\"<ipython-input-1-0aa1d2a618bb>\"\u001b[0;36m, line \u001b[0;32m3\u001b[0m\n\u001b[0;31m    inctime=${HOME}/bin/inctime\u001b[0m\n\u001b[0m            ^\u001b[0m\n\u001b[0;31mSyntaxError\u001b[0m\u001b[0;31m:\u001b[0m invalid syntax\n"
     ]
    }
   ],
   "source": [
    "#! /bin/bash\n",
    "\n",
    "inctime=${HOME}/bin/inctime\n",
    "\n",
    "datai=2013010100\n",
    "dataf=2013010512\n",
    "\n",
    "data=${datai}\n",
    "\n",
    "while [ ${data} -le ${dataf} ]\n",
    "do\n",
    "\n",
    "    echo \"${data}\"\n",
    "    \n",
    "    data=$(${inctime} ${data} +12hr %y4%m2%d2%h2)\n",
    "    \n",
    "done\n",
    "\n",
    "exit 0"
   ]
  },
  {
   "cell_type": "code",
   "execution_count": null,
   "metadata": {},
   "outputs": [],
   "source": []
  },
  {
   "cell_type": "code",
   "execution_count": null,
   "metadata": {},
   "outputs": [],
   "source": []
  }
 ],
 "metadata": {
  "kernelspec": {
   "display_name": "Python 3",
   "language": "python",
   "name": "python3"
  },
  "language_info": {
   "codemirror_mode": {
    "name": "ipython",
    "version": 3
   },
   "file_extension": ".py",
   "mimetype": "text/x-python",
   "name": "python",
   "nbconvert_exporter": "python",
   "pygments_lexer": "ipython3",
   "version": "3.7.3"
  }
 },
 "nbformat": 4,
 "nbformat_minor": 2
}
